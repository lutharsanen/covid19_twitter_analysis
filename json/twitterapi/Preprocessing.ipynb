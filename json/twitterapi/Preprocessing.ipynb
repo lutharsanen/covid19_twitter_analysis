{
 "cells": [
  {
   "cell_type": "code",
   "execution_count": 11,
   "metadata": {},
   "outputs": [],
   "source": [
    "import json\n",
    "from os import walk\n",
    "import pandas as pd"
   ]
  },
  {
   "cell_type": "code",
   "execution_count": 2,
   "metadata": {},
   "outputs": [],
   "source": [
    "italia = {}\n",
    "\n",
    "files = []"
   ]
  },
  {
   "cell_type": "code",
   "execution_count": 3,
   "metadata": {},
   "outputs": [],
   "source": [
    "for filenames in walk(r\"C:\\Users\\Lutharsanen\\Documents\\GitHub\\covi19_twitter_analysis\\json\\twitterapi\\IT\"):\n",
    "    files.append(filenames)"
   ]
  },
  {
   "cell_type": "code",
   "execution_count": 4,
   "metadata": {},
   "outputs": [
    {
     "data": {
      "text/plain": [
       "398"
      ]
     },
     "execution_count": 4,
     "metadata": {},
     "output_type": "execute_result"
    }
   ],
   "source": [
    "len(files[0][2])"
   ]
  },
  {
   "cell_type": "code",
   "execution_count": 5,
   "metadata": {},
   "outputs": [
    {
     "data": {
      "text/plain": [
       "{'Apr 10': 1153,\n",
       " 'Apr 05': 3734,\n",
       " 'Apr 09': 1609,\n",
       " 'Apr 04': 2353,\n",
       " 'Apr 03': 665,\n",
       " 'Apr 02': 582,\n",
       " 'Apr 01': 680,\n",
       " 'Mar 31': 801,\n",
       " 'Mar 30': 790,\n",
       " 'Mar 29': 916,\n",
       " 'Mar 28': 1010,\n",
       " 'Mar 27': 930,\n",
       " 'Mar 26': 770,\n",
       " 'Mar 25': 826,\n",
       " 'Mar 24': 788,\n",
       " 'Mar 23': 765,\n",
       " 'Mar 22': 971,\n",
       " 'Mar 21': 1376,\n",
       " 'Mar 20': 1387,\n",
       " 'Apr 08': 1987,\n",
       " 'Mar 19': 1271,\n",
       " 'Mar 18': 1222,\n",
       " 'Mar 17': 1138,\n",
       " 'Mar 16': 1098,\n",
       " 'Mar 15': 1256,\n",
       " 'Mar 14': 1386,\n",
       " 'Mar 13': 1838,\n",
       " 'Mar 12': 2020,\n",
       " 'Apr 07': 2072,\n",
       " 'Apr 06': 2382}"
      ]
     },
     "execution_count": 5,
     "metadata": {},
     "output_type": "execute_result"
    }
   ],
   "source": [
    "def date_collector(data_set, d):\n",
    "    for i in data_set['results']:\n",
    "        if not i['created_at'][4:10] in list(italia.keys()):\n",
    "            d[i['created_at'][4:10]] = 1\n",
    "        else:\n",
    "            d[i['created_at'][4:10]] +=1\n",
    "            \n",
    "    return d\n",
    "\n",
    "def files_walker(files, d):\n",
    "    for i in range(len(files[0][2])):\n",
    "        with open('IT/'+files[0][2][i], 'r', encoding='utf8', errors='ignore') as f:\n",
    "            italy = json.load(f)\n",
    "            date_collector(italy, d)\n",
    "    return d\n",
    "\n",
    "files_walker(files, italia)"
   ]
  },
  {
   "cell_type": "code",
   "execution_count": 15,
   "metadata": {},
   "outputs": [],
   "source": [
    "italy_frame = pd.DataFrame.from_dict(italia, orient= 'index')\n",
    "italy_frame.to_json('italy.json')"
   ]
  }
 ],
 "metadata": {
  "kernelspec": {
   "display_name": "Python 3",
   "language": "python",
   "name": "python3"
  },
  "language_info": {
   "codemirror_mode": {
    "name": "ipython",
    "version": 3
   },
   "file_extension": ".py",
   "mimetype": "text/x-python",
   "name": "python",
   "nbconvert_exporter": "python",
   "pygments_lexer": "ipython3",
   "version": "3.7.6"
  }
 },
 "nbformat": 4,
 "nbformat_minor": 4
}
