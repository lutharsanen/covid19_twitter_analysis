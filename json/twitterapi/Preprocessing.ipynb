{
 "cells": [
  {
   "cell_type": "code",
   "execution_count": 1,
   "metadata": {},
   "outputs": [],
   "source": [
    "import json\n",
    "from os import walk\n",
    "import pandas as pd"
   ]
  },
  {
   "cell_type": "code",
   "execution_count": 2,
   "metadata": {},
   "outputs": [],
   "source": [
    "italia = {}\n",
    "\n",
    "files = []"
   ]
  },
  {
   "cell_type": "code",
   "execution_count": 3,
   "metadata": {},
   "outputs": [],
   "source": [
    "for filenames in walk(r\"C:\\Users\\Lutharsanen\\Documents\\GitHub\\covi19_twitter_analysis\\json\\twitterapi\\NY\"):\n",
    "    files.append(filenames)"
   ]
  },
  {
   "cell_type": "code",
   "execution_count": 4,
   "metadata": {},
   "outputs": [
    {
     "data": {
      "text/plain": [
       "456"
      ]
     },
     "execution_count": 4,
     "metadata": {},
     "output_type": "execute_result"
    }
   ],
   "source": [
    "len(files[0][2])"
   ]
  },
  {
   "cell_type": "code",
   "execution_count": 5,
   "metadata": {},
   "outputs": [
    {
     "data": {
      "text/plain": [
       "{'Apr 10': 2155,\n",
       " 'Apr 06': 3140,\n",
       " 'Apr 05': 4112,\n",
       " 'Apr 04': 1317,\n",
       " 'Apr 03': 881,\n",
       " 'Apr 02': 848,\n",
       " 'Apr 01': 893,\n",
       " 'Mar 31': 1046,\n",
       " 'Mar 30': 1052,\n",
       " 'Apr 09': 2065,\n",
       " 'Mar 29': 945,\n",
       " 'Mar 28': 1056,\n",
       " 'Mar 27': 1108,\n",
       " 'Mar 26': 1036,\n",
       " 'Mar 25': 1092,\n",
       " 'Mar 24': 1205,\n",
       " 'Mar 23': 1133,\n",
       " 'Mar 22': 1137,\n",
       " 'Mar 21': 1237,\n",
       " 'Mar 20': 1532,\n",
       " 'Mar 19': 1484,\n",
       " 'Mar 18': 1511,\n",
       " 'Mar 17': 1509,\n",
       " 'Mar 16': 1479,\n",
       " 'Mar 15': 1167,\n",
       " 'Mar 14': 1202,\n",
       " 'Mar 13': 1686,\n",
       " 'Apr 08': 2633,\n",
       " 'Mar 12': 1447,\n",
       " 'Apr 07': 2465}"
      ]
     },
     "execution_count": 5,
     "metadata": {},
     "output_type": "execute_result"
    }
   ],
   "source": [
    "def date_collector(data_set, d):\n",
    "    for i in data_set['results']:\n",
    "        if not i['created_at'][4:10] in list(italia.keys()):\n",
    "            d[i['created_at'][4:10]] = 1\n",
    "        else:\n",
    "            d[i['created_at'][4:10]] +=1\n",
    "            \n",
    "    return d\n",
    "\n",
    "def files_walker(files, d):\n",
    "    for i in range(len(files[0][2])):\n",
    "        with open('NY/'+files[0][2][i], 'r', encoding='utf8', errors='ignore') as f:\n",
    "            region = json.load(f)\n",
    "            date_collector(region, d)\n",
    "    return d\n",
    "\n",
    "files_walker(files, italia)"
   ]
  },
  {
   "cell_type": "code",
   "execution_count": 6,
   "metadata": {},
   "outputs": [],
   "source": [
    "italy_frame = pd.DataFrame.from_dict(italia, orient= 'index')\n",
    "italy_frame.to_json('ny.json')"
   ]
  }
 ],
 "metadata": {
  "kernelspec": {
   "display_name": "Python 3",
   "language": "python",
   "name": "python3"
  },
  "language_info": {
   "codemirror_mode": {
    "name": "ipython",
    "version": 3
   },
   "file_extension": ".py",
   "mimetype": "text/x-python",
   "name": "python",
   "nbconvert_exporter": "python",
   "pygments_lexer": "ipython3",
   "version": "3.7.6"
  }
 },
 "nbformat": 4,
 "nbformat_minor": 4
}
