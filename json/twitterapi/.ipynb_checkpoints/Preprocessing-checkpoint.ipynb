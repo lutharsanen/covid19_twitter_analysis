{
 "cells": [
  {
   "cell_type": "code",
   "execution_count": 16,
   "metadata": {},
   "outputs": [],
   "source": [
    "import json\n",
    "from os import walk"
   ]
  },
  {
   "cell_type": "code",
   "execution_count": 2,
   "metadata": {},
   "outputs": [],
   "source": [
    "italia = {}\n",
    "\n",
    "files = []"
   ]
  },
  {
   "cell_type": "code",
   "execution_count": 20,
   "metadata": {},
   "outputs": [
    {
     "ename": "SyntaxError",
     "evalue": "(unicode error) 'unicodeescape' codec can't decode bytes in position 2-3: truncated \\UXXXXXXXX escape (<ipython-input-20-ce73c4762dfa>, line 1)",
     "output_type": "error",
     "traceback": [
      "\u001b[1;36m  File \u001b[1;32m\"<ipython-input-20-ce73c4762dfa>\"\u001b[1;36m, line \u001b[1;32m1\u001b[0m\n\u001b[1;33m    for dirpath, dirnames, filenames in walk(\"C:\\Users\\Lutharsanen\\Documents\\GitHub\\covi19_twitter_analysis\\json\\twitter api\\IT\"):\u001b[0m\n\u001b[1;37m                                            ^\u001b[0m\n\u001b[1;31mSyntaxError\u001b[0m\u001b[1;31m:\u001b[0m (unicode error) 'unicodeescape' codec can't decode bytes in position 2-3: truncated \\UXXXXXXXX escape\n"
     ]
    }
   ],
   "source": [
    "for dirpath, dirnames, filenames in walk(\"C:\\Users\\Lutharsanen\\Documents\\GitHub\\covi19_twitter_analysis\\json\\twitter api\\IT\"):\n",
    "    files.append(filenames)"
   ]
  },
  {
   "cell_type": "code",
   "execution_count": 3,
   "metadata": {},
   "outputs": [],
   "source": [
    "def date_collector(data_set, d):\n",
    "    for i in data_set['results']:\n",
    "        if not i['created_at'][:10] in list(italia.keys()):\n",
    "            d[i['created_at'][:10]] = 1\n",
    "        else:\n",
    "            d[i['created_at'][:10]] +=1\n",
    "            \n",
    "    return d\n",
    "\n"
   ]
  },
  {
   "cell_type": "code",
   "execution_count": 4,
   "metadata": {},
   "outputs": [
    {
     "data": {
      "text/plain": [
       "{'Fri Apr 10': 100}"
      ]
     },
     "execution_count": 4,
     "metadata": {},
     "output_type": "execute_result"
    }
   ],
   "source": [
    "with open('IT/italy-1.json', 'r', encoding='utf8', errors='ignore') as f:\n",
    "    italy1 = json.load(f)\n",
    "\n",
    "date_collector(italy1, italia)"
   ]
  },
  {
   "cell_type": "code",
   "execution_count": 5,
   "metadata": {},
   "outputs": [
    {
     "data": {
      "text/plain": [
       "{'Fri Apr 10': 200}"
      ]
     },
     "execution_count": 5,
     "metadata": {},
     "output_type": "execute_result"
    }
   ],
   "source": [
    "with open('IT/italy-2.json', 'r', encoding='utf8', errors='ignore') as f:\n",
    "    italy2 = json.load(f)\n",
    "    \n",
    "date_collector(italy2, italia)"
   ]
  },
  {
   "cell_type": "code",
   "execution_count": 6,
   "metadata": {},
   "outputs": [
    {
     "data": {
      "text/plain": [
       "{'Fri Apr 10': 300}"
      ]
     },
     "execution_count": 6,
     "metadata": {},
     "output_type": "execute_result"
    }
   ],
   "source": [
    "with open('IT/italy-3.json', 'r', encoding='utf8', errors='ignore') as f:\n",
    "    italy3 = json.load(f)\n",
    "    \n",
    "date_collector(italy3, italia)"
   ]
  },
  {
   "cell_type": "code",
   "execution_count": 8,
   "metadata": {},
   "outputs": [
    {
     "data": {
      "text/plain": [
       "{'Fri Apr 10': 400}"
      ]
     },
     "execution_count": 8,
     "metadata": {},
     "output_type": "execute_result"
    }
   ],
   "source": [
    "with open('IT/italy-4.json', 'r', encoding='utf8', errors='ignore') as f:\n",
    "    italy4 = json.load(f)\n",
    "    \n",
    "date_collector(italy4, italia)"
   ]
  },
  {
   "cell_type": "code",
   "execution_count": 9,
   "metadata": {},
   "outputs": [
    {
     "data": {
      "text/plain": [
       "{'Fri Apr 10': 500}"
      ]
     },
     "execution_count": 9,
     "metadata": {},
     "output_type": "execute_result"
    }
   ],
   "source": [
    "with open('IT/italy-5.json', 'r', encoding='utf8', errors='ignore') as f:\n",
    "    italy5 = json.load(f)\n",
    "    \n",
    "date_collector(italy5, italia)"
   ]
  },
  {
   "cell_type": "code",
   "execution_count": 10,
   "metadata": {},
   "outputs": [
    {
     "data": {
      "text/plain": [
       "{'Fri Apr 10': 600}"
      ]
     },
     "execution_count": 10,
     "metadata": {},
     "output_type": "execute_result"
    }
   ],
   "source": [
    "with open('IT/italy-6.json', 'r', encoding='utf8', errors='ignore') as f:\n",
    "    italy6 = json.load(f)\n",
    "    \n",
    "date_collector(italy6, italia)"
   ]
  },
  {
   "cell_type": "code",
   "execution_count": 11,
   "metadata": {},
   "outputs": [
    {
     "data": {
      "text/plain": [
       "{'Fri Apr 10': 700}"
      ]
     },
     "execution_count": 11,
     "metadata": {},
     "output_type": "execute_result"
    }
   ],
   "source": [
    "with open('IT/italy-7.json', 'r', encoding='utf8', errors='ignore') as f:\n",
    "    italy7 = json.load(f)\n",
    "    \n",
    "date_collector(italy7, italia)"
   ]
  },
  {
   "cell_type": "code",
   "execution_count": 13,
   "metadata": {},
   "outputs": [
    {
     "data": {
      "text/plain": [
       "{'Fri Apr 10': 800}"
      ]
     },
     "execution_count": 13,
     "metadata": {},
     "output_type": "execute_result"
    }
   ],
   "source": [
    "with open('IT/italy-8.json', 'r', encoding='utf8', errors='ignore') as f:\n",
    "    italy8 = json.load(f)\n",
    "    \n",
    "date_collector(italy8, italia)"
   ]
  },
  {
   "cell_type": "code",
   "execution_count": 14,
   "metadata": {},
   "outputs": [
    {
     "data": {
      "text/plain": [
       "{'Fri Apr 10': 900}"
      ]
     },
     "execution_count": 14,
     "metadata": {},
     "output_type": "execute_result"
    }
   ],
   "source": [
    "with open('IT/italy-9.json', 'r', encoding='utf8', errors='ignore') as f:\n",
    "    italy9 = json.load(f)\n",
    "    \n",
    "date_collector(italy9, italia)"
   ]
  },
  {
   "cell_type": "code",
   "execution_count": 15,
   "metadata": {},
   "outputs": [
    {
     "data": {
      "text/plain": [
       "{'Fri Apr 10': 1000}"
      ]
     },
     "execution_count": 15,
     "metadata": {},
     "output_type": "execute_result"
    }
   ],
   "source": [
    "with open('IT/italy-10.json', 'r', encoding='utf8', errors='ignore') as f:\n",
    "    italy10 = json.load(f)\n",
    "    \n",
    "date_collector(italy10, italia)"
   ]
  }
 ],
 "metadata": {
  "kernelspec": {
   "display_name": "Python 3",
   "language": "python",
   "name": "python3"
  },
  "language_info": {
   "codemirror_mode": {
    "name": "ipython",
    "version": 3
   },
   "file_extension": ".py",
   "mimetype": "text/x-python",
   "name": "python",
   "nbconvert_exporter": "python",
   "pygments_lexer": "ipython3",
   "version": "3.7.6"
  }
 },
 "nbformat": 4,
 "nbformat_minor": 4
}
