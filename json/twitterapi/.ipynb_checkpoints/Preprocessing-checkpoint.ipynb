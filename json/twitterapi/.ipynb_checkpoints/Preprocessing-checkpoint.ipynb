{
 "cells": [
  {
   "cell_type": "code",
   "execution_count": 1,
   "metadata": {},
   "outputs": [],
   "source": [
    "import json\n",
    "from os import walk\n",
    "import pandas as pd"
   ]
  },
  {
   "cell_type": "code",
   "execution_count": 2,
   "metadata": {},
   "outputs": [],
   "source": [
    "italia = {}\n",
    "\n",
    "files = []"
   ]
  },
  {
   "cell_type": "code",
   "execution_count": 3,
   "metadata": {},
   "outputs": [],
   "source": [
    "for filenames in walk(r\"C:\\Users\\Lutharsanen\\Documents\\GitHub\\covi19_twitter_analysis\\json\\twitterapi\\IT\"):\n",
    "    files.append(filenames)"
   ]
  },
  {
   "cell_type": "code",
   "execution_count": 4,
   "metadata": {},
   "outputs": [
    {
     "data": {
      "text/plain": [
       "570"
      ]
     },
     "execution_count": 4,
     "metadata": {},
     "output_type": "execute_result"
    }
   ],
   "source": [
    "len(files[0][2])"
   ]
  },
  {
   "cell_type": "code",
   "execution_count": 5,
   "metadata": {},
   "outputs": [
    {
     "data": {
      "text/plain": [
       "{'Apr 10': 1153,\n",
       " 'Apr 05': 3734,\n",
       " 'Apr 09': 1609,\n",
       " 'Apr 04': 2353,\n",
       " 'Apr 03': 665,\n",
       " 'Apr 02': 582,\n",
       " 'Apr 01': 680,\n",
       " 'Mar 31': 801,\n",
       " 'Mar 30': 790,\n",
       " 'Mar 29': 916,\n",
       " 'Mar 28': 1010,\n",
       " 'Mar 27': 930,\n",
       " 'Mar 26': 770,\n",
       " 'Mar 25': 826,\n",
       " 'Mar 24': 788,\n",
       " 'Mar 23': 765,\n",
       " 'Mar 22': 971,\n",
       " 'Mar 21': 1376,\n",
       " 'Mar 20': 1387,\n",
       " 'Apr 08': 1987,\n",
       " 'Mar 19': 1271,\n",
       " 'Mar 18': 1222,\n",
       " 'Mar 17': 1138,\n",
       " 'Mar 16': 1098,\n",
       " 'Mar 15': 1256,\n",
       " 'Mar 14': 1386,\n",
       " 'Mar 13': 1838,\n",
       " 'Mar 12': 2020,\n",
       " 'Mar 11': 1758,\n",
       " 'Mar 10': 1229,\n",
       " 'Mar 09': 1567,\n",
       " 'Mar 08': 1342,\n",
       " 'Mar 07': 961,\n",
       " 'Mar 06': 691,\n",
       " 'Mar 05': 815,\n",
       " 'Apr 07': 2072,\n",
       " 'Mar 04': 689,\n",
       " 'Mar 03': 612,\n",
       " 'Mar 02': 448,\n",
       " 'Mar 01': 443,\n",
       " 'Feb 29': 468,\n",
       " 'Feb 28': 483,\n",
       " 'Feb 27': 680,\n",
       " 'Feb 26': 671,\n",
       " 'Feb 25': 805,\n",
       " 'Feb 24': 1219,\n",
       " 'Feb 23': 953,\n",
       " 'Feb 22': 638,\n",
       " 'Feb 21': 365,\n",
       " 'Feb 20': 26,\n",
       " 'Feb 19': 20,\n",
       " 'Feb 18': 44,\n",
       " 'Feb 17': 39,\n",
       " 'Feb 16': 31,\n",
       " 'Feb 15': 48,\n",
       " 'Feb 14': 33,\n",
       " 'Feb 13': 40,\n",
       " 'Feb 12': 55,\n",
       " 'Apr 06': 2382}"
      ]
     },
     "execution_count": 5,
     "metadata": {},
     "output_type": "execute_result"
    }
   ],
   "source": [
    "def date_collector(data_set, d):\n",
    "    for i in data_set['results']:\n",
    "        if not i['created_at'][4:10] in list(italia.keys()):\n",
    "            d[i['created_at'][4:10]] = 1\n",
    "        else:\n",
    "            d[i['created_at'][4:10]] +=1\n",
    "            \n",
    "    return d\n",
    "\n",
    "def files_walker(files, d):\n",
    "    for i in range(len(files[0][2])):\n",
    "        with open('IT/'+files[0][2][i], 'r', encoding='utf8', errors='ignore') as f:\n",
    "            region = json.load(f)\n",
    "            date_collector(region, d)\n",
    "    return d\n",
    "\n",
    "def date_transformer(string_data):\n",
    "    date = string_data + ' 2020'\n",
    "    return datetime.strptime(date,\"%b %d %Y\" )\n",
    "    \n",
    "    \n",
    "files_walker(files, italia)"
   ]
  },
  {
   "cell_type": "code",
   "execution_count": 6,
   "metadata": {},
   "outputs": [],
   "source": [
    "italy_frame = pd.DataFrame.from_dict(italia, orient= 'index')\n",
    "italy_frame.to_json('ny.json')"
   ]
  },
  {
   "cell_type": "code",
   "execution_count": 16,
   "metadata": {},
   "outputs": [
    {
     "name": "stdout",
     "output_type": "stream",
     "text": [
      "2020-04-06 00:00:00\n"
     ]
    }
   ],
   "source": [
    "from datetime import datetime\n",
    "\n",
    "date = 'Apr 06' + ' 2020'\n",
    "new_date = datetime.strptime(date,\"%b %d %Y\" )\n",
    "print(new_date)"
   ]
  }
 ],
 "metadata": {
  "kernelspec": {
   "display_name": "Python 3",
   "language": "python",
   "name": "python3"
  },
  "language_info": {
   "codemirror_mode": {
    "name": "ipython",
    "version": 3
   },
   "file_extension": ".py",
   "mimetype": "text/x-python",
   "name": "python",
   "nbconvert_exporter": "python",
   "pygments_lexer": "ipython3",
   "version": "3.7.6"
  }
 },
 "nbformat": 4,
 "nbformat_minor": 4
}
