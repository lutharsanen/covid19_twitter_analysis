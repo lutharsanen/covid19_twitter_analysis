{
 "cells": [
  {
   "cell_type": "code",
   "execution_count": 1,
   "metadata": {},
   "outputs": [],
   "source": [
    "%matplotlib inline"
   ]
  },
  {
   "cell_type": "code",
   "execution_count": 2,
   "metadata": {},
   "outputs": [],
   "source": [
    "import json\n",
    "import pandas as pd\n",
    "import matplotlib.pyplot as plt\n"
   ]
  },
  {
   "cell_type": "code",
   "execution_count": 3,
   "metadata": {},
   "outputs": [],
   "source": [
    " with open('italy.json', 'r', encoding='utf8', errors='ignore') as f:\n",
    "            italia = json.load(f)\n",
    "            \n"
   ]
  },
  {
   "cell_type": "code",
   "execution_count": 4,
   "metadata": {},
   "outputs": [],
   "source": [
    "df_italy = pd.DataFrame.from_dict(italia['0'], orient= 'index')"
   ]
  },
  {
   "cell_type": "code",
   "execution_count": 17,
   "metadata": {},
   "outputs": [
    {
     "data": {
      "text/plain": [
       "1582070400000      20\n",
       "1582156800000      26\n",
       "1581811200000      31\n",
       "1581638400000      33\n",
       "1581897600000      39\n",
       "1581552000000      40\n",
       "1581984000000      44\n",
       "1581724800000      48\n",
       "1581465600000      55\n",
       "1582243200000     365\n",
       "1583020800000     443\n",
       "1583107200000     448\n",
       "1582934400000     468\n",
       "1582848000000     483\n",
       "1585785600000     582\n",
       "1583193600000     612\n",
       "1582329600000     638\n",
       "1585872000000     665\n",
       "1582675200000     671\n",
       "1582761600000     680\n",
       "1585699200000     680\n",
       "1583280000000     689\n",
       "1583452800000     691\n",
       "1584921600000     765\n",
       "1585180800000     770\n",
       "1585008000000     788\n",
       "1585526400000     790\n",
       "1585612800000     801\n",
       "1582588800000     805\n",
       "1583366400000     815\n",
       "1585094400000     826\n",
       "1585440000000     916\n",
       "1585267200000     930\n",
       "1582416000000     953\n",
       "1583539200000     961\n",
       "1584835200000     971\n",
       "1585353600000    1010\n",
       "1584316800000    1098\n",
       "1584403200000    1138\n",
       "1586476800000    1153\n",
       "1582502400000    1219\n",
       "1584489600000    1222\n",
       "1583798400000    1229\n",
       "1584230400000    1256\n",
       "1584576000000    1271\n",
       "1583625600000    1342\n",
       "1584748800000    1376\n",
       "1584144000000    1386\n",
       "1584662400000    1387\n",
       "1583712000000    1567\n",
       "1586390400000    1609\n",
       "1583884800000    1758\n",
       "1584057600000    1838\n",
       "1586304000000    1987\n",
       "1583971200000    2020\n",
       "1586217600000    2072\n",
       "1585958400000    2353\n",
       "1586131200000    2382\n",
       "1586044800000    3734\n",
       "Name: 0, dtype: int64"
      ]
     },
     "execution_count": 17,
     "metadata": {},
     "output_type": "execute_result"
    }
   ],
   "source": [
    "df_italy_sorted = df_italy.sort_values(by=0)\n",
    "df_italy_sorted[0]"
   ]
  },
  {
   "cell_type": "code",
   "execution_count": 13,
   "metadata": {},
   "outputs": [
    {
     "data": {
      "image/png": "[encoded data removed]",
      "text/plain": [
       "<Figure size 432x288 with 1 Axes>"
      ]
     },
     "metadata": {
      "needs_background": "light"
     },
     "output_type": "display_data"
    }
   ],
   "source": [
    "x = [i for i in range(len(df_italy_sorted[0]))]\n",
    "plt.plot(x,df_italy_sorted[0])\n",
    "plt.show()"
   ]
  },
  {
   "cell_type": "code",
   "execution_count": 7,
   "metadata": {},
   "outputs": [],
   "source": [
    " with open('ny.json', 'r', encoding='utf8', errors='ignore') as f:\n",
    "            ny = json.load(f)\n",
    "            "
   ]
  },
  {
   "cell_type": "code",
   "execution_count": 8,
   "metadata": {},
   "outputs": [],
   "source": [
    "df_ny = pd.DataFrame.from_dict(ny['0'], orient= 'index')\n",
    "df_ny_sorted = df_ny.sort_values(by=0)"
   ]
  },
  {
   "cell_type": "code",
   "execution_count": 16,
   "metadata": {},
   "outputs": [
    {
     "data": {
      "text/plain": [
       "1582156800000      10\n",
       "1581897600000      14\n",
       "1582243200000      15\n",
       "1581465600000      16\n",
       "1582329600000      16\n",
       "1581984000000      19\n",
       "1582070400000      19\n",
       "1581811200000      20\n",
       "1581638400000      21\n",
       "1581724800000      21\n",
       "1581552000000      25\n",
       "1582416000000      27\n",
       "1582502400000      38\n",
       "1582588800000      54\n",
       "1583020800000      83\n",
       "1582675200000      99\n",
       "1582761600000     152\n",
       "1582848000000     157\n",
       "1582934400000     191\n",
       "1583107200000     214\n",
       "1583280000000     238\n",
       "1583193600000     264\n",
       "1583366400000     280\n",
       "1583625600000     319\n",
       "1583452800000     338\n",
       "1583539200000     341\n",
       "1583712000000     506\n",
       "1583798400000     592\n",
       "1585785600000     848\n",
       "1585872000000     881\n",
       "1583884800000     884\n",
       "1585699200000     893\n",
       "1585440000000     945\n",
       "1585180800000    1036\n",
       "1585612800000    1046\n",
       "1585526400000    1052\n",
       "1585353600000    1056\n",
       "1585094400000    1092\n",
       "1585267200000    1108\n",
       "1584921600000    1133\n",
       "1584835200000    1137\n",
       "1584230400000    1167\n",
       "1584144000000    1202\n",
       "1585008000000    1205\n",
       "1584748800000    1237\n",
       "1585958400000    1317\n",
       "1583971200000    1447\n",
       "1584316800000    1479\n",
       "1584576000000    1484\n",
       "1584403200000    1509\n",
       "1584489600000    1511\n",
       "1584662400000    1532\n",
       "1584057600000    1686\n",
       "1586390400000    2065\n",
       "1586476800000    2155\n",
       "1586217600000    2465\n",
       "1586304000000    2633\n",
       "1586131200000    3140\n",
       "1586044800000    4112\n",
       "Name: 0, dtype: int64"
      ]
     },
     "execution_count": 16,
     "metadata": {},
     "output_type": "execute_result"
    }
   ],
   "source": [
    "df_ny_sorted[0]"
   ]
  },
  {
   "cell_type": "code",
   "execution_count": 11,
   "metadata": {},
   "outputs": [
    {
     "data": {
      "image/png": "[encoded data removed]",
      "text/plain": [
       "<Figure size 432x288 with 1 Axes>"
      ]
     },
     "metadata": {
      "needs_background": "light"
     },
     "output_type": "display_data"
    }
   ],
   "source": [
    "x = [i for i in range(len(df_ny_sorted[0]))]\n",
    "plt.plot(x,df_ny_sorted[0])\n",
    "plt.show()"
   ]
  },
  {
   "cell_type": "code",
   "execution_count": null,
   "metadata": {},
   "outputs": [],
   "source": []
  }
 ],
 "metadata": {
  "kernelspec": {
   "display_name": "Python 3",
   "language": "python",
   "name": "python3"
  },
  "language_info": {
   "codemirror_mode": {
    "name": "ipython",
    "version": 3
   },
   "file_extension": ".py",
   "mimetype": "text/x-python",
   "name": "python",
   "nbconvert_exporter": "python",
   "pygments_lexer": "ipython3",
   "version": "3.7.6"
  }
 },
 "nbformat": 4,
 "nbformat_minor": 4
}
