{
 "cells": [
  {
   "cell_type": "code",
   "execution_count": 1,
   "metadata": {},
   "outputs": [],
   "source": [
    "import json\n",
    "from os import walk\n",
    "import pandas as pd\n",
    "from datetime import datetime\n",
    "\n",
    "from textblob import TextBlob\n",
    "import re"
   ]
  },
  {
   "cell_type": "code",
   "execution_count": 2,
   "metadata": {},
   "outputs": [],
   "source": [
    "italia = {}\n",
    "\n",
    "files = []"
   ]
  },
  {
   "cell_type": "code",
   "execution_count": 3,
   "metadata": {},
   "outputs": [],
   "source": [
    "for filenames in walk(r\"C:\\Users\\Lutharsanen\\Documents\\GitHub\\covi19_twitter_analysis\\json\\twitterapi\\NY\"):\n",
    "    files.append(filenames)"
   ]
  },
  {
   "cell_type": "code",
   "execution_count": 4,
   "metadata": {},
   "outputs": [
    {
     "data": {
      "text/plain": [
       "506"
      ]
     },
     "execution_count": 4,
     "metadata": {},
     "output_type": "execute_result"
    }
   ],
   "source": [
    "len(files[0][2])"
   ]
  },
  {
   "cell_type": "code",
   "execution_count": 5,
   "metadata": {},
   "outputs": [
    {
     "data": {
      "text/plain": [
       "{datetime.datetime(2020, 4, 10, 0, 0): 2155,\n",
       " datetime.datetime(2020, 4, 6, 0, 0): 3140,\n",
       " datetime.datetime(2020, 4, 5, 0, 0): 4112,\n",
       " datetime.datetime(2020, 4, 4, 0, 0): 1317,\n",
       " datetime.datetime(2020, 4, 3, 0, 0): 881,\n",
       " datetime.datetime(2020, 4, 2, 0, 0): 848,\n",
       " datetime.datetime(2020, 4, 1, 0, 0): 893,\n",
       " datetime.datetime(2020, 3, 31, 0, 0): 1046,\n",
       " datetime.datetime(2020, 3, 30, 0, 0): 1052,\n",
       " datetime.datetime(2020, 4, 9, 0, 0): 2065,\n",
       " datetime.datetime(2020, 3, 29, 0, 0): 945,\n",
       " datetime.datetime(2020, 3, 28, 0, 0): 1056,\n",
       " datetime.datetime(2020, 3, 27, 0, 0): 1108,\n",
       " datetime.datetime(2020, 3, 26, 0, 0): 1036,\n",
       " datetime.datetime(2020, 3, 25, 0, 0): 1092,\n",
       " datetime.datetime(2020, 3, 24, 0, 0): 1205,\n",
       " datetime.datetime(2020, 3, 23, 0, 0): 1133,\n",
       " datetime.datetime(2020, 3, 22, 0, 0): 1137,\n",
       " datetime.datetime(2020, 3, 21, 0, 0): 1237,\n",
       " datetime.datetime(2020, 3, 20, 0, 0): 1532,\n",
       " datetime.datetime(2020, 3, 19, 0, 0): 1484,\n",
       " datetime.datetime(2020, 3, 18, 0, 0): 1511,\n",
       " datetime.datetime(2020, 3, 17, 0, 0): 1509,\n",
       " datetime.datetime(2020, 3, 16, 0, 0): 1479,\n",
       " datetime.datetime(2020, 3, 15, 0, 0): 1167,\n",
       " datetime.datetime(2020, 3, 14, 0, 0): 1202,\n",
       " datetime.datetime(2020, 3, 13, 0, 0): 1686,\n",
       " datetime.datetime(2020, 4, 8, 0, 0): 2633,\n",
       " datetime.datetime(2020, 3, 12, 0, 0): 1447,\n",
       " datetime.datetime(2020, 3, 11, 0, 0): 884,\n",
       " datetime.datetime(2020, 3, 10, 0, 0): 592,\n",
       " datetime.datetime(2020, 3, 9, 0, 0): 506,\n",
       " datetime.datetime(2020, 3, 8, 0, 0): 319,\n",
       " datetime.datetime(2020, 3, 7, 0, 0): 341,\n",
       " datetime.datetime(2020, 3, 6, 0, 0): 338,\n",
       " datetime.datetime(2020, 3, 5, 0, 0): 280,\n",
       " datetime.datetime(2020, 3, 4, 0, 0): 238,\n",
       " datetime.datetime(2020, 3, 3, 0, 0): 264,\n",
       " datetime.datetime(2020, 3, 2, 0, 0): 214,\n",
       " datetime.datetime(2020, 3, 1, 0, 0): 83,\n",
       " datetime.datetime(2020, 2, 29, 0, 0): 191,\n",
       " datetime.datetime(2020, 2, 28, 0, 0): 157,\n",
       " datetime.datetime(2020, 2, 27, 0, 0): 152,\n",
       " datetime.datetime(2020, 2, 26, 0, 0): 99,\n",
       " datetime.datetime(2020, 2, 25, 0, 0): 54,\n",
       " datetime.datetime(2020, 2, 24, 0, 0): 38,\n",
       " datetime.datetime(2020, 2, 23, 0, 0): 27,\n",
       " datetime.datetime(2020, 2, 22, 0, 0): 16,\n",
       " datetime.datetime(2020, 2, 21, 0, 0): 15,\n",
       " datetime.datetime(2020, 2, 20, 0, 0): 10,\n",
       " datetime.datetime(2020, 2, 19, 0, 0): 19,\n",
       " datetime.datetime(2020, 2, 18, 0, 0): 19,\n",
       " datetime.datetime(2020, 2, 17, 0, 0): 14,\n",
       " datetime.datetime(2020, 2, 16, 0, 0): 20,\n",
       " datetime.datetime(2020, 2, 15, 0, 0): 21,\n",
       " datetime.datetime(2020, 2, 14, 0, 0): 21,\n",
       " datetime.datetime(2020, 2, 13, 0, 0): 25,\n",
       " datetime.datetime(2020, 2, 12, 0, 0): 16,\n",
       " datetime.datetime(2020, 4, 7, 0, 0): 2465}"
      ]
     },
     "execution_count": 5,
     "metadata": {},
     "output_type": "execute_result"
    }
   ],
   "source": [
    "def date_collector(data_set, d):\n",
    "    for i in data_set['results']:\n",
    "        if not date_transformer(i['created_at'][4:10]) in list(italia.keys()):\n",
    "            d[date_transformer(i['created_at'][4:10])] = 1\n",
    "        else:\n",
    "            d[date_transformer(i['created_at'][4:10])] +=1\n",
    "            \n",
    "    return d\n",
    "\n",
    "def files_walker(files, d):\n",
    "    for i in range(len(files[0][2])):\n",
    "        with open('NY/'+files[0][2][i], 'r', encoding='utf8', errors='ignore') as f:\n",
    "            region = json.load(f)\n",
    "            date_collector(region, d)\n",
    "    return d\n",
    "\n",
    "def date_transformer(string_data):\n",
    "    date = string_data + ' 2020'\n",
    "    return datetime.strptime(date,\"%b %d %Y\" )\n",
    "    \n",
    "    \n",
    "files_walker(files, italia)"
   ]
  },
  {
   "cell_type": "code",
   "execution_count": 6,
   "metadata": {},
   "outputs": [],
   "source": [
    "italy_frame = pd.DataFrame.from_dict(italia, orient= 'index')\n",
    "italy_frame.to_json('ny.json')"
   ]
  }
 ],
 "metadata": {
  "kernelspec": {
   "display_name": "Python 3",
   "language": "python",
   "name": "python3"
  },
  "language_info": {
   "codemirror_mode": {
    "name": "ipython",
    "version": 3
   },
   "file_extension": ".py",
   "mimetype": "text/x-python",
   "name": "python",
   "nbconvert_exporter": "python",
   "pygments_lexer": "ipython3",
   "version": "3.7.6"
  }
 },
 "nbformat": 4,
 "nbformat_minor": 4
}
