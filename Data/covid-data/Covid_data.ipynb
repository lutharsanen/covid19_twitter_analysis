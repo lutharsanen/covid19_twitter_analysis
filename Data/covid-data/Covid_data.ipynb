{
 "cells": [
  {
   "cell_type": "code",
   "execution_count": 1,
   "metadata": {},
   "outputs": [
    {
     "output_type": "display_data",
     "data": {
      "text/plain": "province    country\n2020-01-22      0.0\n2020-01-23      0.0\n2020-01-24      0.0\n2020-01-25      0.0\n2020-01-26      0.0\n...             ...\n2020-03-19     22.0\n2020-03-20     24.0\n2020-03-21     24.0\n2020-03-22     40.0\n2020-03-23     40.0\n\n[62 rows x 1 columns]",
      "text/html": "<div>\n<style scoped>\n    .dataframe tbody tr th:only-of-type {\n        vertical-align: middle;\n    }\n\n    .dataframe tbody tr th {\n        vertical-align: top;\n    }\n\n    .dataframe thead th {\n        text-align: right;\n    }\n</style>\n<table border=\"1\" class=\"dataframe\">\n  <thead>\n    <tr style=\"text-align: right;\">\n      <th>province</th>\n      <th>country</th>\n    </tr>\n  </thead>\n  <tbody>\n    <tr>\n      <th>2020-01-22</th>\n      <td>0.0</td>\n    </tr>\n    <tr>\n      <th>2020-01-23</th>\n      <td>0.0</td>\n    </tr>\n    <tr>\n      <th>2020-01-24</th>\n      <td>0.0</td>\n    </tr>\n    <tr>\n      <th>2020-01-25</th>\n      <td>0.0</td>\n    </tr>\n    <tr>\n      <th>2020-01-26</th>\n      <td>0.0</td>\n    </tr>\n    <tr>\n      <th>...</th>\n      <td>...</td>\n    </tr>\n    <tr>\n      <th>2020-03-19</th>\n      <td>22.0</td>\n    </tr>\n    <tr>\n      <th>2020-03-20</th>\n      <td>24.0</td>\n    </tr>\n    <tr>\n      <th>2020-03-21</th>\n      <td>24.0</td>\n    </tr>\n    <tr>\n      <th>2020-03-22</th>\n      <td>40.0</td>\n    </tr>\n    <tr>\n      <th>2020-03-23</th>\n      <td>40.0</td>\n    </tr>\n  </tbody>\n</table>\n<p>62 rows × 1 columns</p>\n</div>"
     },
     "metadata": {}
    }
   ],
   "source": [
    "import pandas as pd \n",
    "import os\n",
    "import ipywidgets as widgets\n",
    "from ipywidgets import interact, interact_manual\n",
    "\n",
    "csv_files = ['covid19_Confirmed.csv','covid19_Deaths.csv','covid19_Recovered.csv']\n",
    "\n",
    "def prepare_data(source):\n",
    "    data_raw = pd.read_csv(source)\n",
    "    #if no province is given name the province 'country'\n",
    "    data_raw['Province/State'] = data_raw['Province/State'].fillna(value='country')\n",
    "    #create Multicolumn layer\n",
    "    country_tuples = list(zip(data_raw['Country/Region'],data_raw['Province/State']))\n",
    "    cols = pd.MultiIndex.from_tuples(country_tuples, names=['country', 'province'])\n",
    "    #create datetime index\n",
    "    dates = pd.to_datetime(data_raw.columns[4:],infer_datetime_format=True)\n",
    "    df = pd.DataFrame(data_raw.iloc[:,4:].transpose().values, index=dates, columns=cols)\n",
    "    return df\n",
    "\n",
    "\n",
    "countries = prepare_data(csv_files[0]).columns.levels[0]\n",
    "\n",
    "@interact\n",
    "def show_data(source = csv_files , country = countries ):\n",
    "    file = source\n",
    "    return prepare_data(file)[country]\n",
    "    \n"
   ]
  },
  {
   "cell_type": "code",
   "execution_count": 2,
   "metadata": {},
   "outputs": [
    {
     "output_type": "display_data",
     "data": {
      "text/plain": "interactive(children=(Dropdown(description='source', options=('covid19_Confirmed.csv', 'covid19_Deaths.csv', '…",
      "application/vnd.jupyter.widget-view+json": {
       "version_major": 2,
       "version_minor": 0,
       "model_id": "e0d7cb4dcd8d4a77bdfa7397b0a59ca4"
      }
     },
     "metadata": {}
    }
   ],
   "source": [
    "@interact\n",
    "def show_data(source = csv_files , country = countries ):\n",
    "    file = source\n",
    "    return prepare_data(file)[country].plot()\n"
   ]
  },
  {
   "cell_type": "code",
   "execution_count": 3,
   "metadata": {},
   "outputs": [
    {
     "output_type": "display_data",
     "data": {
      "text/plain": "interactive(children=(Dropdown(description='country', options=('Afghanistan', 'Albania', 'Algeria', 'Andorra',…",
      "application/vnd.jupyter.widget-view+json": {
       "version_major": 2,
       "version_minor": 0,
       "model_id": "84abb629b802437bbd97963706c0c9cc"
      }
     },
     "metadata": {}
    }
   ],
   "source": [
    "@interact\n",
    "def show_country_tot(country = countries ):\n",
    "    file_confirmed = 'covid19_Confirmed.csv'\n",
    "    file_death = 'covid19_Deaths.csv'\n",
    "    file_recover = 'covid19_Recovered.csv'\n",
    "    \n",
    "    df_tot = pd.DataFrame({'Confirmed' : prepare_data(file_confirmed)[country].sum(axis=1).values,\n",
    "                         'Deaths' : prepare_data(file_death)[country].sum(axis=1).values,\n",
    "                         'Recovered' : prepare_data(file_recover)[country].sum(axis=1).values},\n",
    "                         index = prepare_data(file_recover)[country].index\n",
    "                         )\n",
    "    return df_tot.plot()"
   ]
  }
 ],
 "metadata": {
  "kernelspec": {
   "display_name": "Python 3",
   "language": "python",
   "name": "python3"
  },
  "language_info": {
   "codemirror_mode": {
    "name": "ipython",
    "version": 3
   },
   "file_extension": ".py",
   "mimetype": "text/x-python",
   "name": "python",
   "nbconvert_exporter": "python",
   "pygments_lexer": "ipython3",
   "version": "3.8.2-final"
  }
 },
 "nbformat": 4,
 "nbformat_minor": 2
}