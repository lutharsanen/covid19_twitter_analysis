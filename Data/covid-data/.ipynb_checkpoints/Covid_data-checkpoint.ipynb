{
 "cells": [
  {
   "cell_type": "code",
   "execution_count": 15,
   "metadata": {},
   "outputs": [
    {
     "data": {
      "application/vnd.jupyter.widget-view+json": {
       "model_id": "15787fbe6b68404cbd41f65a07ecd4f7",
       "version_major": 2,
       "version_minor": 0
      },
      "text/plain": [
       "interactive(children=(Dropdown(description='source', options=('covid19_Confirmed.csv', 'covid19_Deaths.csv', '…"
      ]
     },
     "metadata": {},
     "output_type": "display_data"
    }
   ],
   "source": [
    "import pandas as pd \n",
    "import os\n",
    "import ipywidgets as widgets\n",
    "from ipywidgets import interact, interact_manual\n",
    "\n",
    "source_path = r'C:\\Users\\joell\\OneDrive\\Dokumente\\GitHub\\covi19_twitter_analysis\\Data'\n",
    "\n",
    "csv_files = ['covid19_Confirmed.csv','covid19_Deaths.csv','covid19_Recovered.csv']\n",
    "\n",
    "def prepare_data(source):\n",
    "    data_raw = pd.read_csv(source)\n",
    "    #if no province is given name the province 'country'\n",
    "    data_raw['Province/State'] = data_raw['Province/State'].fillna(value='country')\n",
    "    #create Multicolumn layer\n",
    "    country_tuples = list(zip(data_raw['Country/Region'],data_raw['Province/State']))\n",
    "    cols = pd.MultiIndex.from_tuples(country_tuples, names=['country', 'province'])\n",
    "    #create datetime index\n",
    "    dates = pd.to_datetime(data_raw.columns[4:],infer_datetime_format=True)\n",
    "    df = pd.DataFrame(data_raw.iloc[:,4:].transpose().values, index=dates, columns=cols)\n",
    "    return df\n",
    "\n",
    "\n",
    "countries = prepare_data(os.path.join(source_path, csv_files[0] )).columns.levels[0]\n",
    "\n",
    "@interact\n",
    "def show_data(source = csv_files , country = countries ):\n",
    "    file = os.path.join(source_path, source)\n",
    "    return prepare_data(file)[country]\n",
    "    \n"
   ]
  },
  {
   "cell_type": "code",
   "execution_count": 16,
   "metadata": {},
   "outputs": [
    {
     "data": {
      "application/vnd.jupyter.widget-view+json": {
       "model_id": "9479496ce0364c819743d3666635bc99",
       "version_major": 2,
       "version_minor": 0
      },
      "text/plain": [
       "interactive(children=(Dropdown(description='source', options=('covid19_Confirmed.csv', 'covid19_Deaths.csv', '…"
      ]
     },
     "metadata": {},
     "output_type": "display_data"
    }
   ],
   "source": [
    "@interact\n",
    "def show_data(source = csv_files , country = countries ):\n",
    "    file = os.path.join(source_path, source)\n",
    "    return prepare_data(file)[country].plot()\n"
   ]
  },
  {
   "cell_type": "code",
   "execution_count": 22,
   "metadata": {},
   "outputs": [
    {
     "data": {
      "application/vnd.jupyter.widget-view+json": {
       "model_id": "3ac8e52ef0c8426992657f46d105dc0d",
       "version_major": 2,
       "version_minor": 0
      },
      "text/plain": [
       "interactive(children=(Dropdown(description='country', options=('Afghanistan', 'Albania', 'Algeria', 'Andorra',…"
      ]
     },
     "metadata": {},
     "output_type": "display_data"
    }
   ],
   "source": [
    "@interact\n",
    "def show_country_tot(country = countries ):\n",
    "    file_confirmed = os.path.join(source_path, 'covid19_Confirmed.csv')\n",
    "    file_death = os.path.join(source_path, 'covid19_Deaths.csv')\n",
    "    file_recover = os.path.join(source_path, 'covid19_Recovered.csv')\n",
    "    \n",
    "    df_tot = pd.DataFrame({'Confirmed' : prepare_data(file_confirmed)[country].sum(axis=1).values,\n",
    "                         'Deaths' : prepare_data(file_death)[country].sum(axis=1).values,\n",
    "                         'Recovered' : prepare_data(file_recover)[country].sum(axis=1).values},\n",
    "                         index = prepare_data(file_recover)[country].index\n",
    "                         )\n",
    "    return df_tot.plot()"
   ]
  }
 ],
 "metadata": {
  "kernelspec": {
   "display_name": "Python 3",
   "language": "python",
   "name": "python3"
  },
  "language_info": {
   "codemirror_mode": {
    "name": "ipython",
    "version": 3
   },
   "file_extension": ".py",
   "mimetype": "text/x-python",
   "name": "python",
   "nbconvert_exporter": "python",
   "pygments_lexer": "ipython3",
   "version": "3.7.6"
  }
 },
 "nbformat": 4,
 "nbformat_minor": 2
}
